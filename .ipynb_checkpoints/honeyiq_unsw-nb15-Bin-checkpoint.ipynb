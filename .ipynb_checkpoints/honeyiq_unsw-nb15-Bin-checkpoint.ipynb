{
 "cells": [
  {
   "cell_type": "markdown",
   "id": "fea8d4d9-2bd1-41f6-ae8d-8a3f962ccaeb",
   "metadata": {
    "tags": []
   },
   "source": [
    "https://huggingface.co/learn/deep-rl-course/en/unit3/deep-q-algorithm\n",
    "https://www.kaggle.com/code/getanmolgupta01/unsw-nb15-cybersecurity-threat-detection-ann"
   ]
  },
  {
   "cell_type": "code",
   "execution_count": 1,
   "id": "e5cafe6f",
   "metadata": {},
   "outputs": [],
   "source": [
    "import os"
   ]
  },
  {
   "cell_type": "code",
   "execution_count": 2,
   "id": "75250e30-2540-48de-b776-f3c59db3fcce",
   "metadata": {
    "tags": []
   },
   "outputs": [],
   "source": [
    "import pandas as pd"
   ]
  },
  {
   "cell_type": "markdown",
   "id": "a832fdbc-2729-4280-bd6b-d60b4c589562",
   "metadata": {
    "tags": []
   },
   "source": [
    "Utilize data from UNSW_NB15 dataset for IDS configuration"
   ]
  },
  {
   "cell_type": "code",
   "execution_count": 3,
   "id": "e01255b2",
   "metadata": {},
   "outputs": [],
   "source": [
    "# pip install gym torch numpy matplotlib"
   ]
  },
  {
   "cell_type": "code",
   "execution_count": 4,
   "id": "d5ebf3b2",
   "metadata": {},
   "outputs": [
    {
     "name": "stdout",
     "output_type": "stream",
     "text": [
      "Requirement already satisfied: gymnasium in /home/caesar/.local/lib/python3.11/site-packages (1.0.0)\n",
      "Requirement already satisfied: numpy>=1.21.0 in /home/caesar/miniconda3/lib/python3.11/site-packages (from gymnasium) (2.2.4)\n",
      "Requirement already satisfied: cloudpickle>=1.2.0 in /home/caesar/miniconda3/lib/python3.11/site-packages (from gymnasium) (3.1.1)\n",
      "Requirement already satisfied: typing-extensions>=4.3.0 in /home/caesar/.local/lib/python3.11/site-packages (from gymnasium) (4.12.2)\n",
      "Requirement already satisfied: farama-notifications>=0.0.1 in /home/caesar/.local/lib/python3.11/site-packages (from gymnasium) (0.0.4)\n"
     ]
    }
   ],
   "source": [
    "!pip install gymnasium"
   ]
  },
  {
   "cell_type": "code",
   "execution_count": 5,
   "id": "b5f803ef",
   "metadata": {
    "scrolled": true
   },
   "outputs": [
    {
     "name": "stdout",
     "output_type": "stream",
     "text": [
      "Looking in indexes: https://download.pytorch.org/whl/cu126\n",
      "Requirement already satisfied: torch in /home/caesar/.local/lib/python3.11/site-packages (2.6.0+cu126)\n",
      "Requirement already satisfied: torchvision in /home/caesar/.local/lib/python3.11/site-packages (0.21.0+cu126)\n",
      "Requirement already satisfied: torchaudio in /home/caesar/.local/lib/python3.11/site-packages (2.6.0+cu126)\n",
      "Requirement already satisfied: filelock in /home/caesar/miniconda3/lib/python3.11/site-packages (from torch) (3.9.0)\n",
      "Requirement already satisfied: typing-extensions>=4.10.0 in /home/caesar/.local/lib/python3.11/site-packages (from torch) (4.12.2)\n",
      "Requirement already satisfied: sympy==1.13.1 in /home/caesar/.local/lib/python3.11/site-packages (from torch) (1.13.1)\n",
      "Requirement already satisfied: networkx in /home/caesar/miniconda3/lib/python3.11/site-packages (from torch) (3.0rc1)\n",
      "Requirement already satisfied: jinja2 in /home/caesar/miniconda3/lib/python3.11/site-packages (from torch) (3.1.6)\n",
      "Requirement already satisfied: fsspec in /home/caesar/miniconda3/lib/python3.11/site-packages (from torch) (2023.4.0)\n",
      "Requirement already satisfied: nvidia-cuda-nvrtc-cu12==12.6.77 in /home/caesar/.local/lib/python3.11/site-packages (from torch) (12.6.77)\n",
      "Requirement already satisfied: nvidia-cuda-runtime-cu12==12.6.77 in /home/caesar/.local/lib/python3.11/site-packages (from torch) (12.6.77)\n",
      "Requirement already satisfied: nvidia-cuda-cupti-cu12==12.6.80 in /home/caesar/.local/lib/python3.11/site-packages (from torch) (12.6.80)\n",
      "Requirement already satisfied: nvidia-cudnn-cu12==9.5.1.17 in /home/caesar/.local/lib/python3.11/site-packages (from torch) (9.5.1.17)\n",
      "Requirement already satisfied: nvidia-cublas-cu12==12.6.4.1 in /home/caesar/.local/lib/python3.11/site-packages (from torch) (12.6.4.1)\n",
      "Requirement already satisfied: nvidia-cufft-cu12==11.3.0.4 in /home/caesar/.local/lib/python3.11/site-packages (from torch) (11.3.0.4)\n",
      "Requirement already satisfied: nvidia-curand-cu12==10.3.7.77 in /home/caesar/.local/lib/python3.11/site-packages (from torch) (10.3.7.77)\n",
      "Requirement already satisfied: nvidia-cusolver-cu12==11.7.1.2 in /home/caesar/.local/lib/python3.11/site-packages (from torch) (11.7.1.2)\n",
      "Requirement already satisfied: nvidia-cusparse-cu12==12.5.4.2 in /home/caesar/.local/lib/python3.11/site-packages (from torch) (12.5.4.2)\n",
      "Requirement already satisfied: nvidia-cusparselt-cu12==0.6.3 in /home/caesar/.local/lib/python3.11/site-packages (from torch) (0.6.3)\n",
      "Requirement already satisfied: nvidia-nccl-cu12==2.21.5 in /home/caesar/.local/lib/python3.11/site-packages (from torch) (2.21.5)\n",
      "Requirement already satisfied: nvidia-nvtx-cu12==12.6.77 in /home/caesar/.local/lib/python3.11/site-packages (from torch) (12.6.77)\n",
      "Requirement already satisfied: nvidia-nvjitlink-cu12==12.6.85 in /home/caesar/.local/lib/python3.11/site-packages (from torch) (12.6.85)\n",
      "Requirement already satisfied: triton==3.2.0 in /home/caesar/.local/lib/python3.11/site-packages (from torch) (3.2.0)\n",
      "Requirement already satisfied: mpmath<1.4,>=1.1.0 in /home/caesar/miniconda3/lib/python3.11/site-packages (from sympy==1.13.1->torch) (1.2.1)\n",
      "Requirement already satisfied: numpy in /home/caesar/miniconda3/lib/python3.11/site-packages (from torchvision) (2.2.4)\n",
      "Requirement already satisfied: pillow!=8.3.*,>=5.3.0 in /home/caesar/miniconda3/lib/python3.11/site-packages (from torchvision) (9.3.0)\n",
      "Requirement already satisfied: MarkupSafe>=2.0 in /home/caesar/miniconda3/lib/python3.11/site-packages (from jinja2->torch) (3.0.2)\n"
     ]
    }
   ],
   "source": [
    "!pip3 install torch torchvision torchaudio --index-url https://download.pytorch.org/whl/cu126"
   ]
  },
  {
   "cell_type": "code",
   "execution_count": 10,
   "id": "8be42917-9b74-43e2-b614-7a020cd13be7",
   "metadata": {
    "tags": []
   },
   "outputs": [],
   "source": [
    "honeyiq_source = \"/home/caesar/HoneyIQ/datasets/unsw-nb15/filtered/binary/\""
   ]
  },
  {
   "cell_type": "code",
   "execution_count": 11,
   "id": "58d2a937",
   "metadata": {},
   "outputs": [
    {
     "data": {
      "text/plain": [
       "['y_train', 'y_test', 'X_train_scaled', 'X_test_scaled']"
      ]
     },
     "execution_count": 11,
     "metadata": {},
     "output_type": "execute_result"
    }
   ],
   "source": [
    "honeyiq_datasource_files_unsw_nb15 = os.listdir(honeyiq_source)\n",
    "honeyiq_datasource_files_unsw_nb15"
   ]
  },
  {
   "cell_type": "code",
   "execution_count": 12,
   "id": "e7d4719c-7823-4165-ad09-aa4fdee08215",
   "metadata": {},
   "outputs": [
    {
     "data": {
      "text/html": [
       "<div>\n",
       "<style scoped>\n",
       "    .dataframe tbody tr th:only-of-type {\n",
       "        vertical-align: middle;\n",
       "    }\n",
       "\n",
       "    .dataframe tbody tr th {\n",
       "        vertical-align: top;\n",
       "    }\n",
       "\n",
       "    .dataframe thead th {\n",
       "        text-align: right;\n",
       "    }\n",
       "</style>\n",
       "<table border=\"1\" class=\"dataframe\">\n",
       "  <thead>\n",
       "    <tr style=\"text-align: right;\">\n",
       "      <th></th>\n",
       "      <th>Unnamed: 0</th>\n",
       "      <th>0</th>\n",
       "      <th>1</th>\n",
       "      <th>2</th>\n",
       "      <th>3</th>\n",
       "      <th>4</th>\n",
       "      <th>5</th>\n",
       "      <th>6</th>\n",
       "      <th>7</th>\n",
       "      <th>8</th>\n",
       "      <th>...</th>\n",
       "      <th>21</th>\n",
       "      <th>22</th>\n",
       "      <th>23</th>\n",
       "      <th>24</th>\n",
       "      <th>25</th>\n",
       "      <th>26</th>\n",
       "      <th>27</th>\n",
       "      <th>28</th>\n",
       "      <th>29</th>\n",
       "      <th>30</th>\n",
       "    </tr>\n",
       "  </thead>\n",
       "  <tbody>\n",
       "    <tr>\n",
       "      <th>0</th>\n",
       "      <td>0</td>\n",
       "      <td>1.809425</td>\n",
       "      <td>-0.436748</td>\n",
       "      <td>-0.474769</td>\n",
       "      <td>-0.279116</td>\n",
       "      <td>-0.898679</td>\n",
       "      <td>-0.442423</td>\n",
       "      <td>0.768110</td>\n",
       "      <td>1.236067</td>\n",
       "      <td>0.496038</td>\n",
       "      <td>...</td>\n",
       "      <td>-0.216761</td>\n",
       "      <td>-0.231692</td>\n",
       "      <td>-0.010223</td>\n",
       "      <td>-0.539341</td>\n",
       "      <td>-0.143765</td>\n",
       "      <td>-0.181770</td>\n",
       "      <td>-0.244328</td>\n",
       "      <td>-0.260744</td>\n",
       "      <td>0.057843</td>\n",
       "      <td>0.816514</td>\n",
       "    </tr>\n",
       "    <tr>\n",
       "      <th>1</th>\n",
       "      <td>1</td>\n",
       "      <td>0.737930</td>\n",
       "      <td>-0.598920</td>\n",
       "      <td>-0.470888</td>\n",
       "      <td>-0.922118</td>\n",
       "      <td>-0.897802</td>\n",
       "      <td>-0.440356</td>\n",
       "      <td>-1.301896</td>\n",
       "      <td>-0.947831</td>\n",
       "      <td>-0.943897</td>\n",
       "      <td>...</td>\n",
       "      <td>0.002042</td>\n",
       "      <td>-0.235286</td>\n",
       "      <td>-0.209127</td>\n",
       "      <td>-0.539347</td>\n",
       "      <td>-0.129904</td>\n",
       "      <td>-0.181770</td>\n",
       "      <td>-0.236712</td>\n",
       "      <td>-0.259397</td>\n",
       "      <td>-0.258619</td>\n",
       "      <td>-0.006445</td>\n",
       "    </tr>\n",
       "    <tr>\n",
       "      <th>2</th>\n",
       "      <td>2</td>\n",
       "      <td>-0.404967</td>\n",
       "      <td>0.173703</td>\n",
       "      <td>-0.282892</td>\n",
       "      <td>0.363886</td>\n",
       "      <td>-0.431497</td>\n",
       "      <td>-0.439932</td>\n",
       "      <td>0.768110</td>\n",
       "      <td>1.755580</td>\n",
       "      <td>0.513229</td>\n",
       "      <td>...</td>\n",
       "      <td>0.220845</td>\n",
       "      <td>-0.237990</td>\n",
       "      <td>0.240919</td>\n",
       "      <td>-0.539226</td>\n",
       "      <td>-0.143606</td>\n",
       "      <td>-0.181770</td>\n",
       "      <td>-0.188198</td>\n",
       "      <td>-0.255467</td>\n",
       "      <td>1.839839</td>\n",
       "      <td>1.370035</td>\n",
       "    </tr>\n",
       "    <tr>\n",
       "      <th>3</th>\n",
       "      <td>3</td>\n",
       "      <td>-0.437227</td>\n",
       "      <td>0.945008</td>\n",
       "      <td>2.853322</td>\n",
       "      <td>1.328388</td>\n",
       "      <td>1.501766</td>\n",
       "      <td>-0.028335</td>\n",
       "      <td>0.768110</td>\n",
       "      <td>-0.907699</td>\n",
       "      <td>-0.890857</td>\n",
       "      <td>...</td>\n",
       "      <td>-0.216761</td>\n",
       "      <td>-0.240295</td>\n",
       "      <td>-0.165213</td>\n",
       "      <td>-0.539347</td>\n",
       "      <td>-0.147141</td>\n",
       "      <td>-0.230697</td>\n",
       "      <td>-0.247343</td>\n",
       "      <td>-0.076637</td>\n",
       "      <td>0.380186</td>\n",
       "      <td>-0.020548</td>\n",
       "    </tr>\n",
       "    <tr>\n",
       "      <th>4</th>\n",
       "      <td>4</td>\n",
       "      <td>3.526955</td>\n",
       "      <td>-0.418290</td>\n",
       "      <td>-0.045957</td>\n",
       "      <td>-0.279116</td>\n",
       "      <td>-0.908757</td>\n",
       "      <td>-0.421480</td>\n",
       "      <td>0.768110</td>\n",
       "      <td>-0.639499</td>\n",
       "      <td>-0.265142</td>\n",
       "      <td>...</td>\n",
       "      <td>0.002042</td>\n",
       "      <td>-0.240000</td>\n",
       "      <td>-0.174607</td>\n",
       "      <td>-0.539354</td>\n",
       "      <td>-0.125595</td>\n",
       "      <td>-0.181770</td>\n",
       "      <td>-0.245539</td>\n",
       "      <td>-0.258121</td>\n",
       "      <td>-0.368322</td>\n",
       "      <td>-0.413078</td>\n",
       "    </tr>\n",
       "  </tbody>\n",
       "</table>\n",
       "<p>5 rows × 32 columns</p>\n",
       "</div>"
      ],
      "text/plain": [
       "   Unnamed: 0         0         1         2         3         4         5  \\\n",
       "0           0  1.809425 -0.436748 -0.474769 -0.279116 -0.898679 -0.442423   \n",
       "1           1  0.737930 -0.598920 -0.470888 -0.922118 -0.897802 -0.440356   \n",
       "2           2 -0.404967  0.173703 -0.282892  0.363886 -0.431497 -0.439932   \n",
       "3           3 -0.437227  0.945008  2.853322  1.328388  1.501766 -0.028335   \n",
       "4           4  3.526955 -0.418290 -0.045957 -0.279116 -0.908757 -0.421480   \n",
       "\n",
       "          6         7         8  ...        21        22        23        24  \\\n",
       "0  0.768110  1.236067  0.496038  ... -0.216761 -0.231692 -0.010223 -0.539341   \n",
       "1 -1.301896 -0.947831 -0.943897  ...  0.002042 -0.235286 -0.209127 -0.539347   \n",
       "2  0.768110  1.755580  0.513229  ...  0.220845 -0.237990  0.240919 -0.539226   \n",
       "3  0.768110 -0.907699 -0.890857  ... -0.216761 -0.240295 -0.165213 -0.539347   \n",
       "4  0.768110 -0.639499 -0.265142  ...  0.002042 -0.240000 -0.174607 -0.539354   \n",
       "\n",
       "         25        26        27        28        29        30  \n",
       "0 -0.143765 -0.181770 -0.244328 -0.260744  0.057843  0.816514  \n",
       "1 -0.129904 -0.181770 -0.236712 -0.259397 -0.258619 -0.006445  \n",
       "2 -0.143606 -0.181770 -0.188198 -0.255467  1.839839  1.370035  \n",
       "3 -0.147141 -0.230697 -0.247343 -0.076637  0.380186 -0.020548  \n",
       "4 -0.125595 -0.181770 -0.245539 -0.258121 -0.368322 -0.413078  \n",
       "\n",
       "[5 rows x 32 columns]"
      ]
     },
     "execution_count": 12,
     "metadata": {},
     "output_type": "execute_result"
    }
   ],
   "source": [
    "x_train_scaled = pd.read_csv(honeyiq_source + \"X_train_scaled\")\n",
    "x_train_scaled.head()"
   ]
  },
  {
   "cell_type": "code",
   "execution_count": 13,
   "id": "ae252f4f-c22c-4e76-9dc9-bd9aca46a799",
   "metadata": {},
   "outputs": [
    {
     "data": {
      "text/html": [
       "<div>\n",
       "<style scoped>\n",
       "    .dataframe tbody tr th:only-of-type {\n",
       "        vertical-align: middle;\n",
       "    }\n",
       "\n",
       "    .dataframe tbody tr th {\n",
       "        vertical-align: top;\n",
       "    }\n",
       "\n",
       "    .dataframe thead th {\n",
       "        text-align: right;\n",
       "    }\n",
       "</style>\n",
       "<table border=\"1\" class=\"dataframe\">\n",
       "  <thead>\n",
       "    <tr style=\"text-align: right;\">\n",
       "      <th></th>\n",
       "      <th>Unnamed: 0</th>\n",
       "      <th>0</th>\n",
       "      <th>1</th>\n",
       "      <th>2</th>\n",
       "      <th>3</th>\n",
       "      <th>4</th>\n",
       "      <th>5</th>\n",
       "      <th>6</th>\n",
       "      <th>7</th>\n",
       "      <th>8</th>\n",
       "      <th>...</th>\n",
       "      <th>21</th>\n",
       "      <th>22</th>\n",
       "      <th>23</th>\n",
       "      <th>24</th>\n",
       "      <th>25</th>\n",
       "      <th>26</th>\n",
       "      <th>27</th>\n",
       "      <th>28</th>\n",
       "      <th>29</th>\n",
       "      <th>30</th>\n",
       "    </tr>\n",
       "  </thead>\n",
       "  <tbody>\n",
       "    <tr>\n",
       "      <th>0</th>\n",
       "      <td>0</td>\n",
       "      <td>-0.404967</td>\n",
       "      <td>0.173703</td>\n",
       "      <td>0.592411</td>\n",
       "      <td>0.042385</td>\n",
       "      <td>-0.897343</td>\n",
       "      <td>-0.398126</td>\n",
       "      <td>0.768110</td>\n",
       "      <td>1.903604</td>\n",
       "      <td>1.914319</td>\n",
       "      <td>...</td>\n",
       "      <td>0.002042</td>\n",
       "      <td>-0.240061</td>\n",
       "      <td>-0.229113</td>\n",
       "      <td>-0.539354</td>\n",
       "      <td>-0.125595</td>\n",
       "      <td>-0.181770</td>\n",
       "      <td>-0.244167</td>\n",
       "      <td>-0.249983</td>\n",
       "      <td>-0.254732</td>\n",
       "      <td>-0.007528</td>\n",
       "    </tr>\n",
       "    <tr>\n",
       "      <th>1</th>\n",
       "      <td>1</td>\n",
       "      <td>2.551103</td>\n",
       "      <td>-0.406424</td>\n",
       "      <td>-0.192990</td>\n",
       "      <td>-0.279116</td>\n",
       "      <td>-0.903563</td>\n",
       "      <td>-0.424547</td>\n",
       "      <td>0.768110</td>\n",
       "      <td>0.813642</td>\n",
       "      <td>1.240498</td>\n",
       "      <td>...</td>\n",
       "      <td>0.002042</td>\n",
       "      <td>-0.239704</td>\n",
       "      <td>-0.110680</td>\n",
       "      <td>-0.539353</td>\n",
       "      <td>-0.143857</td>\n",
       "      <td>-0.181770</td>\n",
       "      <td>-0.244915</td>\n",
       "      <td>-0.217875</td>\n",
       "      <td>0.268615</td>\n",
       "      <td>-0.467560</td>\n",
       "    </tr>\n",
       "    <tr>\n",
       "      <th>2</th>\n",
       "      <td>2</td>\n",
       "      <td>-0.404967</td>\n",
       "      <td>-0.426201</td>\n",
       "      <td>-0.443724</td>\n",
       "      <td>0.363886</td>\n",
       "      <td>-0.910819</td>\n",
       "      <td>-0.442194</td>\n",
       "      <td>0.768110</td>\n",
       "      <td>-0.298767</td>\n",
       "      <td>-0.627981</td>\n",
       "      <td>...</td>\n",
       "      <td>0.002042</td>\n",
       "      <td>-0.236199</td>\n",
       "      <td>-0.059538</td>\n",
       "      <td>-0.539348</td>\n",
       "      <td>-0.144394</td>\n",
       "      <td>-0.181770</td>\n",
       "      <td>-0.245786</td>\n",
       "      <td>-0.258820</td>\n",
       "      <td>0.655027</td>\n",
       "      <td>0.361342</td>\n",
       "    </tr>\n",
       "    <tr>\n",
       "      <th>3</th>\n",
       "      <td>3</td>\n",
       "      <td>-0.536429</td>\n",
       "      <td>-0.804601</td>\n",
       "      <td>-0.503658</td>\n",
       "      <td>-0.922118</td>\n",
       "      <td>0.246824</td>\n",
       "      <td>-0.444790</td>\n",
       "      <td>-1.301896</td>\n",
       "      <td>-0.947831</td>\n",
       "      <td>-0.943897</td>\n",
       "      <td>...</td>\n",
       "      <td>-0.216761</td>\n",
       "      <td>0.390559</td>\n",
       "      <td>0.170599</td>\n",
       "      <td>1.854653</td>\n",
       "      <td>-0.147141</td>\n",
       "      <td>-0.339866</td>\n",
       "      <td>-0.247343</td>\n",
       "      <td>-0.266243</td>\n",
       "      <td>-0.510310</td>\n",
       "      <td>-0.006445</td>\n",
       "    </tr>\n",
       "    <tr>\n",
       "      <th>4</th>\n",
       "      <td>4</td>\n",
       "      <td>-0.492268</td>\n",
       "      <td>0.533645</td>\n",
       "      <td>1.112634</td>\n",
       "      <td>1.328388</td>\n",
       "      <td>3.300005</td>\n",
       "      <td>-0.028335</td>\n",
       "      <td>0.768110</td>\n",
       "      <td>0.451813</td>\n",
       "      <td>0.458809</td>\n",
       "      <td>...</td>\n",
       "      <td>-0.216761</td>\n",
       "      <td>-0.240115</td>\n",
       "      <td>-0.171497</td>\n",
       "      <td>-0.539342</td>\n",
       "      <td>-0.133498</td>\n",
       "      <td>-0.265922</td>\n",
       "      <td>0.007101</td>\n",
       "      <td>-0.152935</td>\n",
       "      <td>-0.111191</td>\n",
       "      <td>-0.006683</td>\n",
       "    </tr>\n",
       "  </tbody>\n",
       "</table>\n",
       "<p>5 rows × 32 columns</p>\n",
       "</div>"
      ],
      "text/plain": [
       "   Unnamed: 0         0         1         2         3         4         5  \\\n",
       "0           0 -0.404967  0.173703  0.592411  0.042385 -0.897343 -0.398126   \n",
       "1           1  2.551103 -0.406424 -0.192990 -0.279116 -0.903563 -0.424547   \n",
       "2           2 -0.404967 -0.426201 -0.443724  0.363886 -0.910819 -0.442194   \n",
       "3           3 -0.536429 -0.804601 -0.503658 -0.922118  0.246824 -0.444790   \n",
       "4           4 -0.492268  0.533645  1.112634  1.328388  3.300005 -0.028335   \n",
       "\n",
       "          6         7         8  ...        21        22        23        24  \\\n",
       "0  0.768110  1.903604  1.914319  ...  0.002042 -0.240061 -0.229113 -0.539354   \n",
       "1  0.768110  0.813642  1.240498  ...  0.002042 -0.239704 -0.110680 -0.539353   \n",
       "2  0.768110 -0.298767 -0.627981  ...  0.002042 -0.236199 -0.059538 -0.539348   \n",
       "3 -1.301896 -0.947831 -0.943897  ... -0.216761  0.390559  0.170599  1.854653   \n",
       "4  0.768110  0.451813  0.458809  ... -0.216761 -0.240115 -0.171497 -0.539342   \n",
       "\n",
       "         25        26        27        28        29        30  \n",
       "0 -0.125595 -0.181770 -0.244167 -0.249983 -0.254732 -0.007528  \n",
       "1 -0.143857 -0.181770 -0.244915 -0.217875  0.268615 -0.467560  \n",
       "2 -0.144394 -0.181770 -0.245786 -0.258820  0.655027  0.361342  \n",
       "3 -0.147141 -0.339866 -0.247343 -0.266243 -0.510310 -0.006445  \n",
       "4 -0.133498 -0.265922  0.007101 -0.152935 -0.111191 -0.006683  \n",
       "\n",
       "[5 rows x 32 columns]"
      ]
     },
     "execution_count": 13,
     "metadata": {},
     "output_type": "execute_result"
    }
   ],
   "source": [
    "x_test_scaled = pd.read_csv(honeyiq_source + \"X_test_scaled\")\n",
    "x_test_scaled.head()"
   ]
  },
  {
   "cell_type": "code",
   "execution_count": 14,
   "id": "32531ffd-77ee-4b6b-93a4-bda3caa5dc5d",
   "metadata": {},
   "outputs": [
    {
     "data": {
      "text/html": [
       "<div>\n",
       "<style scoped>\n",
       "    .dataframe tbody tr th:only-of-type {\n",
       "        vertical-align: middle;\n",
       "    }\n",
       "\n",
       "    .dataframe tbody tr th {\n",
       "        vertical-align: top;\n",
       "    }\n",
       "\n",
       "    .dataframe thead th {\n",
       "        text-align: right;\n",
       "    }\n",
       "</style>\n",
       "<table border=\"1\" class=\"dataframe\">\n",
       "  <thead>\n",
       "    <tr style=\"text-align: right;\">\n",
       "      <th></th>\n",
       "      <th>Unnamed: 0</th>\n",
       "      <th>Label</th>\n",
       "    </tr>\n",
       "  </thead>\n",
       "  <tbody>\n",
       "    <tr>\n",
       "      <th>0</th>\n",
       "      <td>1529887</td>\n",
       "      <td>1</td>\n",
       "    </tr>\n",
       "    <tr>\n",
       "      <th>1</th>\n",
       "      <td>995169</td>\n",
       "      <td>0</td>\n",
       "    </tr>\n",
       "    <tr>\n",
       "      <th>2</th>\n",
       "      <td>1797171</td>\n",
       "      <td>1</td>\n",
       "    </tr>\n",
       "    <tr>\n",
       "      <th>3</th>\n",
       "      <td>993943</td>\n",
       "      <td>0</td>\n",
       "    </tr>\n",
       "    <tr>\n",
       "      <th>4</th>\n",
       "      <td>766051</td>\n",
       "      <td>1</td>\n",
       "    </tr>\n",
       "  </tbody>\n",
       "</table>\n",
       "</div>"
      ],
      "text/plain": [
       "   Unnamed: 0  Label\n",
       "0     1529887      1\n",
       "1      995169      0\n",
       "2     1797171      1\n",
       "3      993943      0\n",
       "4      766051      1"
      ]
     },
     "execution_count": 14,
     "metadata": {},
     "output_type": "execute_result"
    }
   ],
   "source": [
    "y_train = pd.read_csv(honeyiq_source + \"y_train\")\n",
    "y_train.head()"
   ]
  },
  {
   "cell_type": "code",
   "execution_count": 15,
   "id": "2e32eaeb-f9f7-4174-98ee-79311971f22c",
   "metadata": {},
   "outputs": [
    {
     "data": {
      "text/html": [
       "<div>\n",
       "<style scoped>\n",
       "    .dataframe tbody tr th:only-of-type {\n",
       "        vertical-align: middle;\n",
       "    }\n",
       "\n",
       "    .dataframe tbody tr th {\n",
       "        vertical-align: top;\n",
       "    }\n",
       "\n",
       "    .dataframe thead th {\n",
       "        text-align: right;\n",
       "    }\n",
       "</style>\n",
       "<table border=\"1\" class=\"dataframe\">\n",
       "  <thead>\n",
       "    <tr style=\"text-align: right;\">\n",
       "      <th></th>\n",
       "      <th>Unnamed: 0</th>\n",
       "      <th>Label</th>\n",
       "    </tr>\n",
       "  </thead>\n",
       "  <tbody>\n",
       "    <tr>\n",
       "      <th>0</th>\n",
       "      <td>1289122</td>\n",
       "      <td>0</td>\n",
       "    </tr>\n",
       "    <tr>\n",
       "      <th>1</th>\n",
       "      <td>1106158</td>\n",
       "      <td>1</td>\n",
       "    </tr>\n",
       "    <tr>\n",
       "      <th>2</th>\n",
       "      <td>591958</td>\n",
       "      <td>1</td>\n",
       "    </tr>\n",
       "    <tr>\n",
       "      <th>3</th>\n",
       "      <td>1149441</td>\n",
       "      <td>1</td>\n",
       "    </tr>\n",
       "    <tr>\n",
       "      <th>4</th>\n",
       "      <td>1970823</td>\n",
       "      <td>0</td>\n",
       "    </tr>\n",
       "  </tbody>\n",
       "</table>\n",
       "</div>"
      ],
      "text/plain": [
       "   Unnamed: 0  Label\n",
       "0     1289122      0\n",
       "1     1106158      1\n",
       "2      591958      1\n",
       "3     1149441      1\n",
       "4     1970823      0"
      ]
     },
     "execution_count": 15,
     "metadata": {},
     "output_type": "execute_result"
    }
   ],
   "source": [
    "y_test = pd.read_csv(honeyiq_source + \"y_test\")\n",
    "y_test.head()"
   ]
  },
  {
   "cell_type": "code",
   "execution_count": 16,
   "id": "14a23416-39c0-4108-bd71-f66e8b456c61",
   "metadata": {},
   "outputs": [],
   "source": [
    "x_train_scaled.drop(columns=['Unnamed: 0'], inplace=True)\n",
    "x_test_scaled.drop(columns=['Unnamed: 0'], inplace=True)"
   ]
  },
  {
   "cell_type": "code",
   "execution_count": 17,
   "id": "6333c479",
   "metadata": {
    "tags": []
   },
   "outputs": [],
   "source": [
    "# Create the custom environment for the model\n",
    "import gymnasium as gym\n",
    "from gymnasium import spaces"
   ]
  },
  {
   "cell_type": "code",
   "execution_count": 18,
   "id": "39801bc5",
   "metadata": {},
   "outputs": [],
   "source": [
    "import seaborn as sns\n",
    "import matplotlib"
   ]
  },
  {
   "cell_type": "code",
   "execution_count": 19,
   "id": "ae387607",
   "metadata": {},
   "outputs": [],
   "source": [
    "import numpy as np"
   ]
  },
  {
   "cell_type": "markdown",
   "id": "ab46d1e7-3a71-4d1a-b602-88a81978e131",
   "metadata": {},
   "source": [
    "<p> <b> Define threat levels based on attack levels </b> </p>"
   ]
  },
  {
   "cell_type": "code",
   "execution_count": 20,
   "id": "007f42a8-b377-432c-9182-5947c67f3b6b",
   "metadata": {
    "tags": []
   },
   "outputs": [],
   "source": [
    "import random\n",
    "import torch\n",
    "import torch.nn as nn\n",
    "import torch.optim as optim"
   ]
  },
  {
   "cell_type": "code",
   "execution_count": 21,
   "id": "f5c1a095-2ae5-4b80-9d57-a241a98efdcd",
   "metadata": {
    "tags": []
   },
   "outputs": [],
   "source": [
    "from collections import deque"
   ]
  },
  {
   "cell_type": "code",
   "execution_count": 22,
   "id": "ce470804",
   "metadata": {
    "tags": []
   },
   "outputs": [],
   "source": [
    "from sklearn.preprocessing import StandardScaler\n",
    "from sklearn.model_selection import train_test_split\n",
    "\n",
    "class NetworkThreatEnv(gym.Env):\n",
    "    def __init__(self, X, y):\n",
    "        super(NetworkThreatEnv, self).__init__()\n",
    "        self.X = X  # Features (Pandas DataFrame)\n",
    "        self.y = y  # Labels (Pandas Series or NumPy array)\n",
    "        self.current_step = 0\n",
    "        \n",
    "        # Define action and observation space\n",
    "        self.action_space = spaces.Discrete(4)  # 4 threat levels\n",
    "        self.observation_space = spaces.Box(low=-np.inf, high=np.inf, shape=(X.shape[1],), dtype=np.float32)\n",
    "    \n",
    "    def reset(self):\n",
    "        self.current_step = 0\n",
    "        state = self.X.iloc[self.current_step].values  # Access the first row and convert to NumPy array\n",
    "        return state.astype(np.float32)  # Ensure the state is of type float32\n",
    "    \n",
    "    def step(self, action):\n",
    "        # Check if the episode has ended\n",
    "        if self.current_step >= len(self.X):\n",
    "            raise IndexError(\"Episode has already ended. Call reset() to start a new episode.\")\n",
    "\n",
    "        # print(action)\n",
    "        # print(self.y.iloc[self.current_step])\n",
    "        # print(self.current_step)\n",
    "        # Calculate reward\n",
    "        if isinstance(self.y, pd.Series):\n",
    "            reward = 1 if action == self.y.iloc[self.current_step] else -1\n",
    "        elif isinstance(self.y, np.ndarray):\n",
    "            reward = 1 if action == self.y[self.current_step] else -1\n",
    "        else:\n",
    "            raise ValueError(\"self.y must be a Pandas Series or NumPy array.\")\n",
    "        \n",
    "        # Move to the next step\n",
    "        self.current_step += 1\n",
    "        \n",
    "        # Check if the episode has ended\n",
    "        done = self.current_step >= len(self.X)\n",
    "        \n",
    "        # Return the next state\n",
    "        next_state = np.zeros_like(self.X.iloc[0].values).astype(np.float32) if done else self.X.iloc[self.current_step].values.astype(np.float32)\n",
    "        return next_state, reward, done, {}"
   ]
  },
  {
   "cell_type": "code",
   "execution_count": 23,
   "id": "18e78c2a-d8eb-4900-b69d-f9654e062c73",
   "metadata": {
    "tags": []
   },
   "outputs": [],
   "source": [
    "class DQN(nn.Module):\n",
    "    def __init__(self, state_size, action_size):\n",
    "        super(DQN, self).__init__()\n",
    "        self.fc1 = nn.Linear(state_size, 64)\n",
    "        self.fc2 = nn.Linear(64, 64)\n",
    "        self.fc3 = nn.Linear(64, action_size)\n",
    "    \n",
    "    def forward(self, x):\n",
    "        x = torch.relu(self.fc1(x))\n",
    "        x = torch.relu(self.fc2(x))\n",
    "        return self.fc3(x)\n",
    "\n",
    "class DQNAgent:\n",
    "    def __init__(self, state_size, action_size):\n",
    "        self.state_size = state_size\n",
    "        self.action_size = action_size\n",
    "        self.memory = deque(maxlen=2000)  # Replay memory\n",
    "        self.gamma = 0.95  # Discount factor\n",
    "        self.epsilon = 1.0  # Exploration rate\n",
    "        self.epsilon_min = 0.01\n",
    "        self.epsilon_decay = 0.995\n",
    "        self.learning_rate = 0.001\n",
    "        self.model = DQN(state_size, action_size)\n",
    "        self.optimizer = optim.Adam(self.model.parameters(), lr=self.learning_rate)\n",
    "        self.criterion = nn.MSELoss()\n",
    "    \n",
    "    def remember(self, state, action, reward, next_state, done):\n",
    "        self.memory.append((state, action, reward, next_state, done))\n",
    "    \n",
    "    def act(self, state):\n",
    "        if np.random.rand() <= self.epsilon:\n",
    "            return random.randrange(self.action_size)  # Explore\n",
    "        state = torch.FloatTensor(state)\n",
    "        with torch.no_grad():\n",
    "            q_values = self.model(state)\n",
    "        return torch.argmax(q_values).item()  # Exploit\n",
    "    \n",
    "    def replay(self, batch_size):\n",
    "        if len(self.memory) < batch_size:\n",
    "            return\n",
    "        minibatch = random.sample(self.memory, batch_size)\n",
    "        \n",
    "        # Convert states and next_states to NumPy arrays of type float32\n",
    "        states = np.array([t[0] for t in minibatch], dtype=np.float32)\n",
    "        actions = np.array([t[1] for t in minibatch])\n",
    "        rewards = np.array([t[2] for t in minibatch], dtype=np.float32)\n",
    "        next_states = np.array([t[3] for t in minibatch], dtype=np.float32)\n",
    "        dones = np.array([t[4] for t in minibatch], dtype=np.float32)\n",
    "\n",
    "        # Convert to PyTorch tensors\n",
    "        states = torch.FloatTensor(states)\n",
    "        actions = torch.LongTensor(actions)\n",
    "        rewards = torch.FloatTensor(rewards)\n",
    "        next_states = torch.FloatTensor(next_states)\n",
    "        dones = torch.FloatTensor(dones)\n",
    "\n",
    "        # Compute Q-values for current states\n",
    "        current_q_values = self.model(states).gather(1, actions.unsqueeze(1))\n",
    "\n",
    "        # Compute Q-values for next states\n",
    "        next_q_values = self.model(next_states).max(1)[0].detach()\n",
    "        target_q_values = rewards + (1 - dones) * self.gamma * next_q_values\n",
    "\n",
    "        # Compute loss and update the model\n",
    "        loss = self.criterion(current_q_values.squeeze(), target_q_values)\n",
    "        self.optimizer.zero_grad()\n",
    "        loss.backward()\n",
    "        self.optimizer.step()\n",
    "\n",
    "        # Decay epsilon\n",
    "        if self.epsilon > self.epsilon_min:\n",
    "            self.epsilon *= self.epsilon_decay"
   ]
  },
  {
   "cell_type": "code",
   "execution_count": 24,
   "id": "ddee6ddc-f972-454a-8504-e512ab56b7ff",
   "metadata": {
    "tags": []
   },
   "outputs": [
    {
     "name": "stdout",
     "output_type": "stream",
     "text": [
      "Requirement already satisfied: stable_baselines3 in /home/caesar/.local/lib/python3.11/site-packages (2.5.0)\n",
      "Requirement already satisfied: gymnasium<1.1.0,>=0.29.1 in /home/caesar/.local/lib/python3.11/site-packages (from stable_baselines3) (1.0.0)\n",
      "Requirement already satisfied: numpy<3.0,>=1.20 in /home/caesar/miniconda3/lib/python3.11/site-packages (from stable_baselines3) (2.2.4)\n",
      "Requirement already satisfied: torch<3.0,>=2.3 in /home/caesar/.local/lib/python3.11/site-packages (from stable_baselines3) (2.6.0+cu126)\n",
      "Requirement already satisfied: cloudpickle in /home/caesar/miniconda3/lib/python3.11/site-packages (from stable_baselines3) (3.1.1)\n",
      "Requirement already satisfied: pandas in /home/caesar/miniconda3/lib/python3.11/site-packages (from stable_baselines3) (2.2.3)\n",
      "Requirement already satisfied: matplotlib in /home/caesar/miniconda3/lib/python3.11/site-packages (from stable_baselines3) (3.10.1)\n",
      "Requirement already satisfied: typing-extensions>=4.3.0 in /home/caesar/.local/lib/python3.11/site-packages (from gymnasium<1.1.0,>=0.29.1->stable_baselines3) (4.12.2)\n",
      "Requirement already satisfied: farama-notifications>=0.0.1 in /home/caesar/.local/lib/python3.11/site-packages (from gymnasium<1.1.0,>=0.29.1->stable_baselines3) (0.0.4)\n",
      "Requirement already satisfied: filelock in /home/caesar/miniconda3/lib/python3.11/site-packages (from torch<3.0,>=2.3->stable_baselines3) (3.9.0)\n",
      "Requirement already satisfied: sympy==1.13.1 in /home/caesar/.local/lib/python3.11/site-packages (from torch<3.0,>=2.3->stable_baselines3) (1.13.1)\n",
      "Requirement already satisfied: networkx in /home/caesar/miniconda3/lib/python3.11/site-packages (from torch<3.0,>=2.3->stable_baselines3) (3.0rc1)\n",
      "Requirement already satisfied: jinja2 in /home/caesar/miniconda3/lib/python3.11/site-packages (from torch<3.0,>=2.3->stable_baselines3) (3.1.6)\n",
      "Requirement already satisfied: fsspec in /home/caesar/miniconda3/lib/python3.11/site-packages (from torch<3.0,>=2.3->stable_baselines3) (2023.4.0)\n",
      "Requirement already satisfied: nvidia-cuda-nvrtc-cu12==12.6.77 in /home/caesar/.local/lib/python3.11/site-packages (from torch<3.0,>=2.3->stable_baselines3) (12.6.77)\n",
      "Requirement already satisfied: nvidia-cuda-runtime-cu12==12.6.77 in /home/caesar/.local/lib/python3.11/site-packages (from torch<3.0,>=2.3->stable_baselines3) (12.6.77)\n",
      "Requirement already satisfied: nvidia-cuda-cupti-cu12==12.6.80 in /home/caesar/.local/lib/python3.11/site-packages (from torch<3.0,>=2.3->stable_baselines3) (12.6.80)\n",
      "Requirement already satisfied: nvidia-cudnn-cu12==9.5.1.17 in /home/caesar/.local/lib/python3.11/site-packages (from torch<3.0,>=2.3->stable_baselines3) (9.5.1.17)\n",
      "Requirement already satisfied: nvidia-cublas-cu12==12.6.4.1 in /home/caesar/.local/lib/python3.11/site-packages (from torch<3.0,>=2.3->stable_baselines3) (12.6.4.1)\n",
      "Requirement already satisfied: nvidia-cufft-cu12==11.3.0.4 in /home/caesar/.local/lib/python3.11/site-packages (from torch<3.0,>=2.3->stable_baselines3) (11.3.0.4)\n",
      "Requirement already satisfied: nvidia-curand-cu12==10.3.7.77 in /home/caesar/.local/lib/python3.11/site-packages (from torch<3.0,>=2.3->stable_baselines3) (10.3.7.77)\n",
      "Requirement already satisfied: nvidia-cusolver-cu12==11.7.1.2 in /home/caesar/.local/lib/python3.11/site-packages (from torch<3.0,>=2.3->stable_baselines3) (11.7.1.2)\n",
      "Requirement already satisfied: nvidia-cusparse-cu12==12.5.4.2 in /home/caesar/.local/lib/python3.11/site-packages (from torch<3.0,>=2.3->stable_baselines3) (12.5.4.2)\n",
      "Requirement already satisfied: nvidia-cusparselt-cu12==0.6.3 in /home/caesar/.local/lib/python3.11/site-packages (from torch<3.0,>=2.3->stable_baselines3) (0.6.3)\n",
      "Requirement already satisfied: nvidia-nccl-cu12==2.21.5 in /home/caesar/.local/lib/python3.11/site-packages (from torch<3.0,>=2.3->stable_baselines3) (2.21.5)\n",
      "Requirement already satisfied: nvidia-nvtx-cu12==12.6.77 in /home/caesar/.local/lib/python3.11/site-packages (from torch<3.0,>=2.3->stable_baselines3) (12.6.77)\n",
      "Requirement already satisfied: nvidia-nvjitlink-cu12==12.6.85 in /home/caesar/.local/lib/python3.11/site-packages (from torch<3.0,>=2.3->stable_baselines3) (12.6.85)\n",
      "Requirement already satisfied: triton==3.2.0 in /home/caesar/.local/lib/python3.11/site-packages (from torch<3.0,>=2.3->stable_baselines3) (3.2.0)\n",
      "Requirement already satisfied: mpmath<1.4,>=1.1.0 in /home/caesar/miniconda3/lib/python3.11/site-packages (from sympy==1.13.1->torch<3.0,>=2.3->stable_baselines3) (1.2.1)\n",
      "Requirement already satisfied: contourpy>=1.0.1 in /home/caesar/miniconda3/lib/python3.11/site-packages (from matplotlib->stable_baselines3) (1.3.1)\n",
      "Requirement already satisfied: cycler>=0.10 in /home/caesar/miniconda3/lib/python3.11/site-packages (from matplotlib->stable_baselines3) (0.12.1)\n",
      "Requirement already satisfied: fonttools>=4.22.0 in /home/caesar/miniconda3/lib/python3.11/site-packages (from matplotlib->stable_baselines3) (4.56.0)\n",
      "Requirement already satisfied: kiwisolver>=1.3.1 in /home/caesar/miniconda3/lib/python3.11/site-packages (from matplotlib->stable_baselines3) (1.4.8)\n",
      "Requirement already satisfied: packaging>=20.0 in /home/caesar/miniconda3/lib/python3.11/site-packages (from matplotlib->stable_baselines3) (24.2)\n",
      "Requirement already satisfied: pillow>=8 in /home/caesar/miniconda3/lib/python3.11/site-packages (from matplotlib->stable_baselines3) (9.3.0)\n",
      "Requirement already satisfied: pyparsing>=2.3.1 in /home/caesar/miniconda3/lib/python3.11/site-packages (from matplotlib->stable_baselines3) (3.2.1)\n",
      "Requirement already satisfied: python-dateutil>=2.7 in /home/caesar/miniconda3/lib/python3.11/site-packages (from matplotlib->stable_baselines3) (2.9.0.post0)\n",
      "Requirement already satisfied: pytz>=2020.1 in /home/caesar/miniconda3/lib/python3.11/site-packages (from pandas->stable_baselines3) (2025.1)\n",
      "Requirement already satisfied: tzdata>=2022.7 in /home/caesar/miniconda3/lib/python3.11/site-packages (from pandas->stable_baselines3) (2025.1)\n",
      "Requirement already satisfied: six>=1.5 in /home/caesar/miniconda3/lib/python3.11/site-packages (from python-dateutil>=2.7->matplotlib->stable_baselines3) (1.17.0)\n",
      "Requirement already satisfied: MarkupSafe>=2.0 in /home/caesar/miniconda3/lib/python3.11/site-packages (from jinja2->torch<3.0,>=2.3->stable_baselines3) (3.0.2)\n"
     ]
    }
   ],
   "source": [
    "!pip3 install stable_baselines3"
   ]
  },
  {
   "cell_type": "code",
   "execution_count": 25,
   "id": "ea99ff98-ba23-47ff-b2ed-c0da21eb086e",
   "metadata": {},
   "outputs": [
    {
     "data": {
      "text/html": [
       "<div>\n",
       "<style scoped>\n",
       "    .dataframe tbody tr th:only-of-type {\n",
       "        vertical-align: middle;\n",
       "    }\n",
       "\n",
       "    .dataframe tbody tr th {\n",
       "        vertical-align: top;\n",
       "    }\n",
       "\n",
       "    .dataframe thead th {\n",
       "        text-align: right;\n",
       "    }\n",
       "</style>\n",
       "<table border=\"1\" class=\"dataframe\">\n",
       "  <thead>\n",
       "    <tr style=\"text-align: right;\">\n",
       "      <th></th>\n",
       "      <th>Unnamed: 0</th>\n",
       "      <th>Label</th>\n",
       "    </tr>\n",
       "  </thead>\n",
       "  <tbody>\n",
       "    <tr>\n",
       "      <th>0</th>\n",
       "      <td>1529887</td>\n",
       "      <td>1</td>\n",
       "    </tr>\n",
       "    <tr>\n",
       "      <th>1</th>\n",
       "      <td>995169</td>\n",
       "      <td>0</td>\n",
       "    </tr>\n",
       "    <tr>\n",
       "      <th>2</th>\n",
       "      <td>1797171</td>\n",
       "      <td>1</td>\n",
       "    </tr>\n",
       "    <tr>\n",
       "      <th>3</th>\n",
       "      <td>993943</td>\n",
       "      <td>0</td>\n",
       "    </tr>\n",
       "    <tr>\n",
       "      <th>4</th>\n",
       "      <td>766051</td>\n",
       "      <td>1</td>\n",
       "    </tr>\n",
       "  </tbody>\n",
       "</table>\n",
       "</div>"
      ],
      "text/plain": [
       "   Unnamed: 0  Label\n",
       "0     1529887      1\n",
       "1      995169      0\n",
       "2     1797171      1\n",
       "3      993943      0\n",
       "4      766051      1"
      ]
     },
     "execution_count": 25,
     "metadata": {},
     "output_type": "execute_result"
    }
   ],
   "source": [
    "y_train.head()"
   ]
  },
  {
   "cell_type": "code",
   "execution_count": 26,
   "id": "fb8e1bc7-94bb-48ae-a6e8-f253c112e481",
   "metadata": {},
   "outputs": [
    {
     "data": {
      "text/html": [
       "<div>\n",
       "<style scoped>\n",
       "    .dataframe tbody tr th:only-of-type {\n",
       "        vertical-align: middle;\n",
       "    }\n",
       "\n",
       "    .dataframe tbody tr th {\n",
       "        vertical-align: top;\n",
       "    }\n",
       "\n",
       "    .dataframe thead th {\n",
       "        text-align: right;\n",
       "    }\n",
       "</style>\n",
       "<table border=\"1\" class=\"dataframe\">\n",
       "  <thead>\n",
       "    <tr style=\"text-align: right;\">\n",
       "      <th></th>\n",
       "      <th>0</th>\n",
       "      <th>1</th>\n",
       "      <th>2</th>\n",
       "      <th>3</th>\n",
       "      <th>4</th>\n",
       "      <th>5</th>\n",
       "      <th>6</th>\n",
       "      <th>7</th>\n",
       "      <th>8</th>\n",
       "      <th>9</th>\n",
       "      <th>...</th>\n",
       "      <th>21</th>\n",
       "      <th>22</th>\n",
       "      <th>23</th>\n",
       "      <th>24</th>\n",
       "      <th>25</th>\n",
       "      <th>26</th>\n",
       "      <th>27</th>\n",
       "      <th>28</th>\n",
       "      <th>29</th>\n",
       "      <th>30</th>\n",
       "    </tr>\n",
       "  </thead>\n",
       "  <tbody>\n",
       "    <tr>\n",
       "      <th>0</th>\n",
       "      <td>1.809425</td>\n",
       "      <td>-0.436748</td>\n",
       "      <td>-0.474769</td>\n",
       "      <td>-0.279116</td>\n",
       "      <td>-0.898679</td>\n",
       "      <td>-0.442423</td>\n",
       "      <td>0.768110</td>\n",
       "      <td>1.236067</td>\n",
       "      <td>0.496038</td>\n",
       "      <td>-0.154822</td>\n",
       "      <td>...</td>\n",
       "      <td>-0.216761</td>\n",
       "      <td>-0.231692</td>\n",
       "      <td>-0.010223</td>\n",
       "      <td>-0.539341</td>\n",
       "      <td>-0.143765</td>\n",
       "      <td>-0.181770</td>\n",
       "      <td>-0.244328</td>\n",
       "      <td>-0.260744</td>\n",
       "      <td>0.057843</td>\n",
       "      <td>0.816514</td>\n",
       "    </tr>\n",
       "    <tr>\n",
       "      <th>1</th>\n",
       "      <td>0.737930</td>\n",
       "      <td>-0.598920</td>\n",
       "      <td>-0.470888</td>\n",
       "      <td>-0.922118</td>\n",
       "      <td>-0.897802</td>\n",
       "      <td>-0.440356</td>\n",
       "      <td>-1.301896</td>\n",
       "      <td>-0.947831</td>\n",
       "      <td>-0.943897</td>\n",
       "      <td>1.516732</td>\n",
       "      <td>...</td>\n",
       "      <td>0.002042</td>\n",
       "      <td>-0.235286</td>\n",
       "      <td>-0.209127</td>\n",
       "      <td>-0.539347</td>\n",
       "      <td>-0.129904</td>\n",
       "      <td>-0.181770</td>\n",
       "      <td>-0.236712</td>\n",
       "      <td>-0.259397</td>\n",
       "      <td>-0.258619</td>\n",
       "      <td>-0.006445</td>\n",
       "    </tr>\n",
       "    <tr>\n",
       "      <th>2</th>\n",
       "      <td>-0.404967</td>\n",
       "      <td>0.173703</td>\n",
       "      <td>-0.282892</td>\n",
       "      <td>0.363886</td>\n",
       "      <td>-0.431497</td>\n",
       "      <td>-0.439932</td>\n",
       "      <td>0.768110</td>\n",
       "      <td>1.755580</td>\n",
       "      <td>0.513229</td>\n",
       "      <td>-0.251258</td>\n",
       "      <td>...</td>\n",
       "      <td>0.220845</td>\n",
       "      <td>-0.237990</td>\n",
       "      <td>0.240919</td>\n",
       "      <td>-0.539226</td>\n",
       "      <td>-0.143606</td>\n",
       "      <td>-0.181770</td>\n",
       "      <td>-0.188198</td>\n",
       "      <td>-0.255467</td>\n",
       "      <td>1.839839</td>\n",
       "      <td>1.370035</td>\n",
       "    </tr>\n",
       "    <tr>\n",
       "      <th>3</th>\n",
       "      <td>-0.437227</td>\n",
       "      <td>0.945008</td>\n",
       "      <td>2.853322</td>\n",
       "      <td>1.328388</td>\n",
       "      <td>1.501766</td>\n",
       "      <td>-0.028335</td>\n",
       "      <td>0.768110</td>\n",
       "      <td>-0.907699</td>\n",
       "      <td>-0.890857</td>\n",
       "      <td>-0.604856</td>\n",
       "      <td>...</td>\n",
       "      <td>-0.216761</td>\n",
       "      <td>-0.240295</td>\n",
       "      <td>-0.165213</td>\n",
       "      <td>-0.539347</td>\n",
       "      <td>-0.147141</td>\n",
       "      <td>-0.230697</td>\n",
       "      <td>-0.247343</td>\n",
       "      <td>-0.076637</td>\n",
       "      <td>0.380186</td>\n",
       "      <td>-0.020548</td>\n",
       "    </tr>\n",
       "    <tr>\n",
       "      <th>4</th>\n",
       "      <td>3.526955</td>\n",
       "      <td>-0.418290</td>\n",
       "      <td>-0.045957</td>\n",
       "      <td>-0.279116</td>\n",
       "      <td>-0.908757</td>\n",
       "      <td>-0.421480</td>\n",
       "      <td>0.768110</td>\n",
       "      <td>-0.639499</td>\n",
       "      <td>-0.265142</td>\n",
       "      <td>-0.058387</td>\n",
       "      <td>...</td>\n",
       "      <td>0.002042</td>\n",
       "      <td>-0.240000</td>\n",
       "      <td>-0.174607</td>\n",
       "      <td>-0.539354</td>\n",
       "      <td>-0.125595</td>\n",
       "      <td>-0.181770</td>\n",
       "      <td>-0.245539</td>\n",
       "      <td>-0.258121</td>\n",
       "      <td>-0.368322</td>\n",
       "      <td>-0.413078</td>\n",
       "    </tr>\n",
       "  </tbody>\n",
       "</table>\n",
       "<p>5 rows × 31 columns</p>\n",
       "</div>"
      ],
      "text/plain": [
       "          0         1         2         3         4         5         6  \\\n",
       "0  1.809425 -0.436748 -0.474769 -0.279116 -0.898679 -0.442423  0.768110   \n",
       "1  0.737930 -0.598920 -0.470888 -0.922118 -0.897802 -0.440356 -1.301896   \n",
       "2 -0.404967  0.173703 -0.282892  0.363886 -0.431497 -0.439932  0.768110   \n",
       "3 -0.437227  0.945008  2.853322  1.328388  1.501766 -0.028335  0.768110   \n",
       "4  3.526955 -0.418290 -0.045957 -0.279116 -0.908757 -0.421480  0.768110   \n",
       "\n",
       "          7         8         9  ...        21        22        23        24  \\\n",
       "0  1.236067  0.496038 -0.154822  ... -0.216761 -0.231692 -0.010223 -0.539341   \n",
       "1 -0.947831 -0.943897  1.516732  ...  0.002042 -0.235286 -0.209127 -0.539347   \n",
       "2  1.755580  0.513229 -0.251258  ...  0.220845 -0.237990  0.240919 -0.539226   \n",
       "3 -0.907699 -0.890857 -0.604856  ... -0.216761 -0.240295 -0.165213 -0.539347   \n",
       "4 -0.639499 -0.265142 -0.058387  ...  0.002042 -0.240000 -0.174607 -0.539354   \n",
       "\n",
       "         25        26        27        28        29        30  \n",
       "0 -0.143765 -0.181770 -0.244328 -0.260744  0.057843  0.816514  \n",
       "1 -0.129904 -0.181770 -0.236712 -0.259397 -0.258619 -0.006445  \n",
       "2 -0.143606 -0.181770 -0.188198 -0.255467  1.839839  1.370035  \n",
       "3 -0.147141 -0.230697 -0.247343 -0.076637  0.380186 -0.020548  \n",
       "4 -0.125595 -0.181770 -0.245539 -0.258121 -0.368322 -0.413078  \n",
       "\n",
       "[5 rows x 31 columns]"
      ]
     },
     "execution_count": 26,
     "metadata": {},
     "output_type": "execute_result"
    }
   ],
   "source": [
    "x_train_scaled.head()"
   ]
  },
  {
   "cell_type": "code",
   "execution_count": 27,
   "id": "2c72b43e-ea5c-49a8-98ee-c1832e9247a2",
   "metadata": {},
   "outputs": [],
   "source": [
    "# from stable_baselines3 import DQN\n",
    "# from stable_baselines3.common.env_util import make_vec_env\n",
    "\n",
    "# # Create vectorized environment\n",
    "# env = make_vec_env(NetworkThreatEnv, n_envs=1)\n",
    "\n",
    "# # Define and train DQN agent\n",
    "# model = DQN(\"MlpPolicy\", env, verbose=1)\n",
    "# model.learn(total_timesteps=10000)\n",
    "\n",
    "# # Save the model\n",
    "# model.save(\"unsw_nb15_dqn\")\n",
    "\n",
    "# env = NetworkThreatEnv(x_train_scaled, y_train)\n",
    "# state = env.reset()  # Should return the first row of X_train as a NumPy array\n",
    "# print(state)\n"
   ]
  },
  {
   "cell_type": "code",
   "execution_count": 28,
   "id": "dc11385f-b9dd-4a53-8c33-9ac1f521bfcb",
   "metadata": {},
   "outputs": [],
   "source": [
    "y_train.drop(columns=['Unnamed: 0'], inplace=True)"
   ]
  },
  {
   "cell_type": "code",
   "execution_count": 29,
   "id": "eb3f73bb-60e3-405a-b9a7-ca3247698b0a",
   "metadata": {},
   "outputs": [],
   "source": [
    "y_test.drop(columns=['Unnamed: 0'], inplace=True)"
   ]
  },
  {
   "cell_type": "code",
   "execution_count": 30,
   "id": "ffaf57aa-9e4a-40aa-aa65-e2c58ba3d6af",
   "metadata": {},
   "outputs": [
    {
     "data": {
      "text/plain": [
       "pandas.core.frame.DataFrame"
      ]
     },
     "execution_count": 30,
     "metadata": {},
     "output_type": "execute_result"
    }
   ],
   "source": [
    "type(x_train_scaled)\n"
   ]
  },
  {
   "cell_type": "code",
   "execution_count": 31,
   "id": "48780085-4639-4ed9-9741-cbd5cfcec973",
   "metadata": {},
   "outputs": [
    {
     "data": {
      "text/plain": [
       "pandas.core.series.Series"
      ]
     },
     "execution_count": 31,
     "metadata": {},
     "output_type": "execute_result"
    }
   ],
   "source": [
    "type(y_train.iloc[:,0] )"
   ]
  },
  {
   "cell_type": "markdown",
   "id": "caf74639-3a5e-4e56-b80d-7b5b5c204316",
   "metadata": {},
   "source": [
    "## Training DQN Agent"
   ]
  },
  {
   "cell_type": "code",
   "execution_count": 32,
   "id": "20debe71-a8ed-46ae-9984-b0484b21da5d",
   "metadata": {
    "tags": []
   },
   "outputs": [
    {
     "name": "stdout",
     "output_type": "stream",
     "text": [
      "Episode: 100, Total Reward: 592, Epsilon: 0.61\n",
      "Episode: 200, Total Reward: 9946, Epsilon: 0.37\n",
      "Episode: 300, Total Reward: 15054, Epsilon: 0.22\n",
      "Episode: 400, Total Reward: 17954, Epsilon: 0.13\n",
      "Episode: 500, Total Reward: 20134, Epsilon: 0.08\n",
      "Episode: 600, Total Reward: 21262, Epsilon: 0.05\n",
      "Episode: 700, Total Reward: 22192, Epsilon: 0.03\n",
      "Episode: 800, Total Reward: 22528, Epsilon: 0.02\n",
      "Episode: 900, Total Reward: 22794, Epsilon: 0.01\n",
      "Episode: 1000, Total Reward: 22962, Epsilon: 0.01\n"
     ]
    }
   ],
   "source": [
    "# Initialize environment and agent\n",
    "env = NetworkThreatEnv(x_train_scaled, y_train.iloc[:,0] )\n",
    "state_size = env.observation_space.shape[0]\n",
    "action_size = env.action_space.n\n",
    "agent = DQNAgent(state_size, action_size)\n",
    "\n",
    "# Training parameters\n",
    "batch_size = 32\n",
    "num_episodes = 1000\n",
    "\n",
    "# Training loop\n",
    "for episode in range(num_episodes):\n",
    "    state = env.reset()\n",
    "    total_reward = 0\n",
    "    done = False\n",
    "\n",
    "    while not done:\n",
    "        action = agent.act(state)\n",
    "        next_state, reward, done, _ = env.step(action)\n",
    "        agent.remember(state, action, reward, next_state, done)\n",
    "        state = next_state\n",
    "        total_reward += reward\n",
    "\n",
    "    if len(agent.memory) > batch_size:\n",
    "        agent.replay(batch_size)\n",
    "\n",
    "    if (episode + 1) % 100 == 0:\n",
    "        print(f\"Episode: {episode + 1}, Total Reward: {total_reward}, Epsilon: {agent.epsilon:.2f}\")"
   ]
  },
  {
   "cell_type": "markdown",
   "id": "ec214096-f9fb-43c6-815d-0f8abe638d42",
   "metadata": {},
   "source": [
    "## Evaluate DQN Agent"
   ]
  },
  {
   "cell_type": "code",
   "execution_count": 33,
   "id": "5d452212-0ff3-438a-a67a-0e2f02e5f5ba",
   "metadata": {},
   "outputs": [
    {
     "name": "stdout",
     "output_type": "stream",
     "text": [
      "Test Accuracy: 97.60%\n"
     ]
    }
   ],
   "source": [
    "# Create a test environment\n",
    "test_env = NetworkThreatEnv(x_test_scaled, y_test.iloc[:,0])\n",
    "\n",
    "# Evaluate the agent\n",
    "correct_predictions = 0\n",
    "total_predictions = len(x_test_scaled)\n",
    "\n",
    "state = test_env.reset()\n",
    "state = np.reshape(state, [1, state_size])\n",
    "done = False\n",
    "\n",
    "while not done:\n",
    "    action = agent.act(state)\n",
    "    next_state, reward, done, _ = test_env.step(action)\n",
    "    next_state = np.reshape(next_state, [1, state_size])\n",
    "    state = next_state\n",
    "\n",
    "    if reward == 1:\n",
    "        correct_predictions += 1\n",
    "\n",
    "# Calculate accuracy\n",
    "accuracy = correct_predictions / total_predictions\n",
    "print(f\"Test Accuracy: {accuracy * 100:.2f}%\")"
   ]
  },
  {
   "cell_type": "code",
   "execution_count": 37,
   "id": "6012fc5d-4dc6-4dca-9e63-a9a28142fcc1",
   "metadata": {},
   "outputs": [],
   "source": [
    "from sklearn.metrics import f1_score, precision_score, recall_score, accuracy_score\n",
    "from sklearn.metrics import confusion_matrix, ConfusionMatrixDisplay\n",
    "\n",
    "def evaluate_agent(env, agent):\n",
    "    \"\"\"\n",
    "    Evaluate the DQN agent and compute metrics.\n",
    "    \n",
    "    Returns:\n",
    "        dict: Dictionary containing accuracy, precision, recall, and F1-score.\n",
    "    \"\"\"\n",
    "    all_preds = []\n",
    "    all_true = []\n",
    "    \n",
    "    state = env.reset()\n",
    "    done = False\n",
    "    \n",
    "    while not done:\n",
    "        action = agent.act(state)  # Model's prediction\n",
    "        next_state, reward, done, _ = env.step(action)\n",
    "        \n",
    "        # Store prediction and true label\n",
    "        all_preds.append(action)\n",
    "        all_true.append(env.y[env.current_step - 1])  # Previous step's true label\n",
    "        \n",
    "        state = next_state\n",
    "    \n",
    "    # Calculate metrics\n",
    "    metrics = {\n",
    "        'accuracy': accuracy_score(all_true, all_preds),\n",
    "        'precision': precision_score(all_true, all_preds, average='weighted'),\n",
    "        'recall': recall_score(all_true, all_preds, average='weighted'),\n",
    "        'f1': f1_score(all_true, all_preds, average='weighted')\n",
    "    }\n",
    "\n",
    "    print(metrics)\n",
    "    cm = confusion_matrix(all_true, all_preds)\n",
    "    \n",
    "    return metrics, cm\n"
   ]
  },
  {
   "cell_type": "code",
   "execution_count": 38,
   "id": "9ca34142-4629-4e45-bfeb-40ea848aa7fa",
   "metadata": {},
   "outputs": [],
   "source": [
    "import matplotlib.pyplot as plt\n",
    "\n",
    "def plot_confusion_matrix(cm, class_names=None):\n",
    "    \"\"\"\n",
    "    Plot a confusion matrix using seaborn.\n",
    "    \n",
    "    Args:\n",
    "        cm (np.array): Confusion matrix from sklearn.\n",
    "        class_names (list): Names of classes (e.g., threat levels).\n",
    "    \"\"\"\n",
    "    plt.figure(figsize=(8, 6))\n",
    "    sns.heatmap(cm, annot=True, fmt='d', cmap='Blues', \n",
    "                xticklabels=class_names, \n",
    "                yticklabels=class_names)\n",
    "    plt.xlabel('Predicted')\n",
    "    plt.ylabel('True')\n",
    "    plt.title('Confusion Matrix')\n",
    "    plt.show()"
   ]
  },
  {
   "cell_type": "code",
   "execution_count": 39,
   "id": "e52e46b3-424f-471a-be0a-d74564f1a095",
   "metadata": {},
   "outputs": [
    {
     "name": "stdout",
     "output_type": "stream",
     "text": [
      "{'accuracy': 0.9765, 'precision': 0.9812403537088384, 'recall': 0.9765, 'f1': 0.9787821012341017}\n"
     ]
    },
    {
     "name": "stderr",
     "output_type": "stream",
     "text": [
      "/home/caesar/miniconda3/lib/python3.11/site-packages/sklearn/metrics/_classification.py:1565: UndefinedMetricWarning: Recall is ill-defined and being set to 0.0 in labels with no true samples. Use `zero_division` parameter to control this behavior.\n",
      "  _warn_prf(average, modifier, f\"{metric.capitalize()} is\", len(result))\n"
     ]
    },
    {
     "ename": "TypeError",
     "evalue": "tuple indices must be integers or slices, not str",
     "output_type": "error",
     "traceback": [
      "\u001b[0;31m---------------------------------------------------------------------------\u001b[0m",
      "\u001b[0;31mTypeError\u001b[0m                                 Traceback (most recent call last)",
      "Cell \u001b[0;32mIn[39], line 5\u001b[0m\n\u001b[1;32m      2\u001b[0m metrics \u001b[38;5;241m=\u001b[39m evaluate_agent(test_env, agent)\n\u001b[1;32m      4\u001b[0m \u001b[38;5;66;03m# Print results\u001b[39;00m\n\u001b[0;32m----> 5\u001b[0m \u001b[38;5;28mprint\u001b[39m(\u001b[38;5;124mf\u001b[39m\u001b[38;5;124m\"\u001b[39m\u001b[38;5;124mAccuracy: \u001b[39m\u001b[38;5;132;01m{\u001b[39;00mmetrics[\u001b[38;5;124m'\u001b[39m\u001b[38;5;124maccuracy\u001b[39m\u001b[38;5;124m'\u001b[39m]\u001b[38;5;132;01m:\u001b[39;00m\u001b[38;5;124m.4f\u001b[39m\u001b[38;5;132;01m}\u001b[39;00m\u001b[38;5;124m\"\u001b[39m)\n\u001b[1;32m      6\u001b[0m \u001b[38;5;28mprint\u001b[39m(\u001b[38;5;124mf\u001b[39m\u001b[38;5;124m\"\u001b[39m\u001b[38;5;124mPrecision: \u001b[39m\u001b[38;5;132;01m{\u001b[39;00mmetrics[\u001b[38;5;124m'\u001b[39m\u001b[38;5;124mprecision\u001b[39m\u001b[38;5;124m'\u001b[39m]\u001b[38;5;132;01m:\u001b[39;00m\u001b[38;5;124m.4f\u001b[39m\u001b[38;5;132;01m}\u001b[39;00m\u001b[38;5;124m\"\u001b[39m)\n\u001b[1;32m      7\u001b[0m \u001b[38;5;28mprint\u001b[39m(\u001b[38;5;124mf\u001b[39m\u001b[38;5;124m\"\u001b[39m\u001b[38;5;124mRecall: \u001b[39m\u001b[38;5;132;01m{\u001b[39;00mmetrics[\u001b[38;5;124m'\u001b[39m\u001b[38;5;124mrecall\u001b[39m\u001b[38;5;124m'\u001b[39m]\u001b[38;5;132;01m:\u001b[39;00m\u001b[38;5;124m.4f\u001b[39m\u001b[38;5;132;01m}\u001b[39;00m\u001b[38;5;124m\"\u001b[39m)\n",
      "\u001b[0;31mTypeError\u001b[0m: tuple indices must be integers or slices, not str"
     ]
    }
   ],
   "source": [
    "# Evaluate\n",
    "metrics = evaluate_agent(test_env, agent)\n",
    "\n",
    "# Print results\n",
    "print(f\"Accuracy: {metrics['accuracy']:.4f}\")\n",
    "print(f\"Precision: {metrics['precision']:.4f}\")\n",
    "print(f\"Recall: {metrics['recall']:.4f}\")\n",
    "print(f\"F1-Score: {metrics['f1']:.4f}\")"
   ]
  },
  {
   "cell_type": "code",
   "execution_count": 40,
   "id": "8c38fba6-d4bd-4a6a-baa2-4cedb350c5a8",
   "metadata": {},
   "outputs": [
    {
     "name": "stdout",
     "output_type": "stream",
     "text": [
      "{'accuracy': 0.9756666666666667, 'precision': 0.9815644311399865, 'recall': 0.9756666666666667, 'f1': 0.978525823318408}\n",
      "Evaluation Metrics:\n",
      "Accuracy: 0.9757\n",
      "Precision: 0.9816\n",
      "Recall: 0.9757\n",
      "F1: 0.9785\n"
     ]
    },
    {
     "name": "stderr",
     "output_type": "stream",
     "text": [
      "/home/caesar/miniconda3/lib/python3.11/site-packages/sklearn/metrics/_classification.py:1565: UndefinedMetricWarning: Recall is ill-defined and being set to 0.0 in labels with no true samples. Use `zero_division` parameter to control this behavior.\n",
      "  _warn_prf(average, modifier, f\"{metric.capitalize()} is\", len(result))\n"
     ]
    },
    {
     "data": {
      "image/png": "[encoded data removed]",
      "text/plain": [
       "<Figure size 800x600 with 2 Axes>"
      ]
     },
     "metadata": {},
     "output_type": "display_data"
    }
   ],
   "source": [
    "# Initialize test environment\n",
    "test_env = NetworkThreatEnv(x_test_scaled, y_test.values)  # Ensure y_test is a NumPy array\n",
    "\n",
    "# Evaluate and get metrics + confusion matrix\n",
    "metrics, cm = evaluate_agent(test_env, agent)\n",
    "\n",
    "# Print metrics\n",
    "print(\"Evaluation Metrics:\")\n",
    "for name, value in metrics.items():\n",
    "    print(f\"{name.capitalize()}: {value:.4f}\")\n",
    "\n",
    "# Plot confusion matrix\n",
    "class_names = ['Normal', 'Attack']  # Replace with your actual class names\n",
    "plot_confusion_matrix(cm, class_names)"
   ]
  },
  {
   "cell_type": "code",
   "execution_count": 1,
   "id": "03a15982-a8ac-4b4a-a5cb-f09fcfb903bf",
   "metadata": {
    "tags": []
   },
   "outputs": [
    {
     "ename": "NameError",
     "evalue": "name 'dqn_model' is not defined",
     "output_type": "error",
     "traceback": [
      "\u001b[0;31m---------------------------------------------------------------------------\u001b[0m",
      "\u001b[0;31mNameError\u001b[0m                                 Traceback (most recent call last)",
      "Cell \u001b[0;32mIn[1], line 10\u001b[0m\n\u001b[1;32m      7\u001b[0m             q_values\u001b[38;5;241m.\u001b[39mappend(model(state_tensor)\u001b[38;5;241m.\u001b[39mnumpy())\n\u001b[1;32m      8\u001b[0m     \u001b[38;5;28;01mreturn\u001b[39;00m np\u001b[38;5;241m.\u001b[39mvstack(q_values)  \u001b[38;5;66;03m# Shape: [n_samples, n_actions]\u001b[39;00m\n\u001b[0;32m---> 10\u001b[0m q_values \u001b[38;5;241m=\u001b[39m get_q_values(dqn_model, X_test)\n",
      "\u001b[0;31mNameError\u001b[0m: name 'dqn_model' is not defined"
     ]
    }
   ],
   "source": [
    "def get_q_values(model, test_states):\n",
    "    \"\"\"Return Q-values for a batch of states.\"\"\"\n",
    "    q_values = []\n",
    "    for state in test_states:\n",
    "        state_tensor = torch.FloatTensor(state).unsqueeze(0)  # Add batch dim\n",
    "        with torch.no_grad():\n",
    "            q_values.append(model(state_tensor).numpy())\n",
    "    return np.vstack(q_values)  # Shape: [n_samples, n_actions]\n",
    "\n",
    "q_values = get_q_values(dqn_model, X_test)  # X_test: Preprocessed states"
   ]
  },
  {
   "cell_type": "code",
   "execution_count": null,
   "id": "83dc8f0c-751b-4ae6-8710-06147f3934b9",
   "metadata": {},
   "outputs": [],
   "source": [
    "# q values to probabilities\n",
    "def q_values_to_probs(q_values, temperature=1.0):\n",
    "    \"\"\"Convert Q-values to probabilities using softmax.\"\"\"\n",
    "    exp_q = np.exp((q_values - np.max(q_values, axis=1, keepdims=True)) / temperature)\n",
    "    return exp_q / np.sum(exp_q, axis=1, keepdims=True)\n",
    "\n",
    "y_probs = q_values_to_probs(q_values, temperature=0.5)  # Shape: [n_samples, n_classes]"
   ]
  },
  {
   "cell_type": "code",
   "execution_count": null,
   "id": "19237cf9-05cf-4530-a334-eb2e5492dcc2",
   "metadata": {},
   "outputs": [],
   "source": [
    "y_scores = y_probs[:, 1:].sum(axis=1) "
   ]
  },
  {
   "cell_type": "code",
   "execution_count": null,
   "id": "9ddb4d14-a954-4cc3-baa8-b960dd1bad13",
   "metadata": {},
   "outputs": [],
   "source": [
    "from sklearn.metrics import roc_curve, auc\n",
    "\n",
    "# Step 1: Get binary labels (0=Normal, 1=Attack)\n",
    "y_test_binary = np.where(y_test >= 1, 1, 0)  # Assuming y_test contains class labels\n",
    "\n",
    "# Step 2: Compute ROC\n",
    "fpr, tpr, thresholds = roc_curve(y_test_binary, y_scores)\n",
    "roc_auc = auc(fpr, tpr)\n",
    "\n",
    "# Step 3: Plot\n",
    "import matplotlib.pyplot as plt\n",
    "plt.plot(fpr, tpr, label=f'DQL (AUC = {roc_auc:.2f})')\n",
    "plt.plot([0, 1], [0, 1], 'k--')\n",
    "plt.xlabel('False Positive Rate')\n",
    "plt.ylabel('True Positive Rate')\n",
    "plt.title('Binary ROC Curve: Normal vs. Attack')\n",
    "plt.legend()\n",
    "plt.show()"
   ]
  }
 ],
 "metadata": {
  "kernelspec": {
   "display_name": "Python 3 (ipykernel)",
   "language": "python",
   "name": "python3"
  },
  "language_info": {
   "codemirror_mode": {
    "name": "ipython",
    "version": 3
   },
   "file_extension": ".py",
   "mimetype": "text/x-python",
   "name": "python",
   "nbconvert_exporter": "python",
   "pygments_lexer": "ipython3",
   "version": "3.11.5"
  }
 },
 "nbformat": 4,
 "nbformat_minor": 5
}
