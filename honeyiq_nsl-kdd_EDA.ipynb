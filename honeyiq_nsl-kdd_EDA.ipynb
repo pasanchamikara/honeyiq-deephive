{
 "cells": [
  {
   "cell_type": "code",
   "execution_count": null,
   "id": "dcb1fb16-36b2-480f-a112-f2c02da49bb4",
   "metadata": {},
   "outputs": [],
   "source": []
  }
 ],
 "metadata": {
  "kernelspec": {
   "display_name": "Python 3 (ipykernel)",
   "language": "python",
   "name": "python3"
  },
  "language_info": {
   "codemirror_mode": {
    "name": "ipython",
    "version": 3
   },
   "file_extension": ".py",
   "mimetype": "text/x-python",
   "name": "python",
   "nbconvert_exporter": "python",
   "pygments_lexer": "ipython3",
   "version": "3.11.5"
  }
 },
 "nbformat": 4,
 "nbformat_minor": 5
}
